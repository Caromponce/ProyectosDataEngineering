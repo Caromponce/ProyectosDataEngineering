{
 "cells": [
  {
   "cell_type": "code",
   "execution_count": 9,
   "metadata": {},
   "outputs": [],
   "source": [
    "import requests\n",
    "import pandas as pd\n",
    "import psycopg2 \n",
    "from psycopg2.extras import execute_values"
   ]
  },
  {
   "cell_type": "code",
   "execution_count": 10,
   "metadata": {},
   "outputs": [],
   "source": [
    "url = \"https://pokeapi.co/api/v2/\"\n",
    "url_dynamic = \"pokemon/pikachu\"\n",
    "headers = {\"Accept-Encoding\": \"gzip, deflate\"}\n",
    "\n",
    "response = requests.get(url + url_dynamic, headers=headers)\n",
    "data = response.json()\n"
   ]
  },
  {
   "cell_type": "code",
   "execution_count": 11,
   "metadata": {},
   "outputs": [
    {
     "name": "stdout",
     "output_type": "stream",
     "text": [
      "Connected to Redshift successfully!\n"
     ]
    }
   ],
   "source": [
    "url=\"data-engineer-cluster.cyhh5bfevlmn.us-east-1.redshift.amazonaws.com\"\n",
    "data_base=\"data-engineer-database\"\n",
    "user=\"caromponce_coderhouse\"\n",
    "with open(\"D:\\Coder House\\Data Engineering Flex\\Proyectos\\Entregable1\\pwd.txt\",'r') as f:\n",
    "    pwd= f.read()\n",
    "\n",
    "try:\n",
    "    conn = psycopg2.connect(\n",
    "        host=url,\n",
    "        dbname=data_base,\n",
    "        user=user,\n",
    "        password=pwd,\n",
    "        port='5439'\n",
    "    )\n",
    "    print(\"Connected to Redshift successfully!\")\n",
    "    \n",
    "except Exception as e:\n",
    "    print(\"Unable to connect to Redshift.\")\n",
    "    print(e)\n"
   ]
  },
  {
   "cell_type": "code",
   "execution_count": 12,
   "metadata": {},
   "outputs": [],
   "source": [
    "def load_in_redshift(conn, data, table_name):\n",
    "    cols= [\"id\", \"name\", \"base_experience\", \"height\", \"weight\", \"types\"]\n",
    "    sql_dtypes=[\"INT\", \"VARCHAR(50)\", \"INT\", \"INT\", \"INT\", \"VARCHAR(100)\"]\n",
    "    column_defs = [f\"{name} {data_type}\" for name, data_type in zip(cols, sql_dtypes)]\n",
    "    table_schema = f\"\"\"\n",
    "        CREATE TABLE IF NOT EXISTS {table_name} (\n",
    "            {', '.join(column_defs)}\n",
    "        );\n",
    "        \"\"\"\n",
    "    # Crear la tabla\n",
    "    cur = conn.cursor()\n",
    "    cur.execute(table_schema)\n",
    "    # # Definir el INSERT\n",
    "    insert_sql = f\"INSERT INTO {table_name} ({', '.join(cols)}) VALUES %s\"\n",
    "    # Execute the transaction to insert the data\n",
    "    cur.execute(\"BEGIN\")\n",
    "    execute_values(cur, insert_sql, data)\n",
    "    cur.execute(\"COMMIT\")\n",
    "    print('Proceso terminado')"
   ]
  },
  {
   "cell_type": "code",
   "execution_count": 13,
   "metadata": {},
   "outputs": [],
   "source": [
    "list_types_names = [item[\"type\"][\"name\"] for item in data[\"types\"]]\n",
    "concatenated_types_names = ', '.join(list_types_names)\n",
    "\n",
    "data_to_send = [(data[\"id\"], data[\"name\"], data[\"base_experience\"], data[\"height\"], data[\"weight\"], concatenated_types_names)]"
   ]
  },
  {
   "cell_type": "code",
   "execution_count": 14,
   "metadata": {},
   "outputs": [
    {
     "name": "stdout",
     "output_type": "stream",
     "text": [
      "Proceso terminado\n"
     ]
    }
   ],
   "source": [
    "load_in_redshift(conn, data_to_send, \"pokemon\")"
   ]
  }
 ],
 "metadata": {
  "kernelspec": {
   "display_name": "Python 3",
   "language": "python",
   "name": "python3"
  },
  "language_info": {
   "codemirror_mode": {
    "name": "ipython",
    "version": 3
   },
   "file_extension": ".py",
   "mimetype": "text/x-python",
   "name": "python",
   "nbconvert_exporter": "python",
   "pygments_lexer": "ipython3",
   "version": "3.11.5"
  }
 },
 "nbformat": 4,
 "nbformat_minor": 2
}
